{
 "cells": [
  {
   "cell_type": "markdown",
   "id": "bea189da",
   "metadata": {},
   "source": [
    "IMPLEMENTAÇÃO DE FILAS"
   ]
  },
  {
   "cell_type": "code",
   "execution_count": 2,
   "id": "c557038e",
   "metadata": {},
   "outputs": [],
   "source": [
    "#Nó da fila\n",
    "class Node:\n",
    "    def __init__(self, value):\n",
    "        self.value = value\n",
    "        self.next = None\n",
    "\n",
    "#Fila\n",
    "class Queue:\n",
    "    def __init__(self):\n",
    "        self.front = None\n",
    "        self.rear = None\n",
    "\n",
    "# Inclusão de elementos na fila    \n",
    "    def enqueue (self, value):\n",
    "        new_node = Node (value)\n",
    "\n",
    "        if self.front == None:\n",
    "            self.front = self.rear = new_node\n",
    "            return\n",
    "        self.rear.next = new_node\n",
    "        self.rear = new_node\n",
    "\n",
    "# Remoção de elementos na fila\n",
    "    def dequeue (self):\n",
    "        if self.front == None:\n",
    "            raise Exception (\"Queue is empty\")\n",
    "        temp = self.front\n",
    "        self.front = self.front.next\n",
    "        if self.front == None:\n",
    "            self.rear = None\n",
    "            return temp.value\n",
    "\n",
    "# Acessa o primeiro elemento da fila\n",
    "    def peek (self):\n",
    "        if self.front == None:\n",
    "            raise Exception (\"Queue is empty\")\n",
    "        return self.front.value\n",
    "\n",
    "# Exibe a fila\n",
    "    def display_queue (self):\n",
    "        current = self.front\n",
    "        while current != None:\n",
    "            print (current.value, end= \" \")\n",
    "            current = current.next\n",
    "\n",
    "#Verifica se a fila está vazia (este teste deve ser feito após os outros testas das filas)\n",
    "    def is_empty (self):\n",
    "      return self.front == None"
   ]
  },
  {
   "cell_type": "markdown",
   "id": "20c75e68",
   "metadata": {},
   "source": [
    "TESTES DE FILA"
   ]
  },
  {
   "cell_type": "code",
   "execution_count": 3,
   "id": "8a2df953",
   "metadata": {},
   "outputs": [
    {
     "name": "stdout",
     "output_type": "stream",
     "text": [
      "10 20 30 40 "
     ]
    }
   ],
   "source": [
    "q = Queue ()\n",
    "\n",
    "q.enqueue (10)\n",
    "q.enqueue (20)\n",
    "q.enqueue (30)\n",
    "q.enqueue (40)\n",
    "\n",
    "#Exibe a fila\n",
    "q.display_queue ()"
   ]
  },
  {
   "cell_type": "code",
   "execution_count": null,
   "id": "57dc3d93",
   "metadata": {},
   "outputs": [],
   "source": []
  }
 ],
 "metadata": {
  "kernelspec": {
   "display_name": "Python 3",
   "language": "python",
   "name": "python3"
  },
  "language_info": {
   "codemirror_mode": {
    "name": "ipython",
    "version": 3
   },
   "file_extension": ".py",
   "mimetype": "text/x-python",
   "name": "python",
   "nbconvert_exporter": "python",
   "pygments_lexer": "ipython3",
   "version": "3.12.9"
  }
 },
 "nbformat": 4,
 "nbformat_minor": 5
}
