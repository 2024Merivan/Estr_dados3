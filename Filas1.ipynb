{
 "cells": [
  {
   "cell_type": "markdown",
   "id": "bea189da",
   "metadata": {},
   "source": [
    "IMPLEMENTAÇÃO DE FILAS"
   ]
  },
  {
   "cell_type": "code",
   "execution_count": 11,
   "id": "c557038e",
   "metadata": {},
   "outputs": [],
   "source": [
    "#Nó da fila\n",
    "class Node:\n",
    "    def __init__(self, value):\n",
    "        self.value = value\n",
    "        self.next = None\n",
    "\n",
    "#Fila\n",
    "class Queue:\n",
    "    def __init__(self):\n",
    "        self.front = None\n",
    "        self.rear = None\n",
    "\n",
    "# Inclusão de elementos na fila    \n",
    "    def enqueue (self, value):\n",
    "        new_node = Node (value)\n",
    "\n",
    "        if self.front == None:\n",
    "            self.front = self.rear = new_node\n",
    "            return\n",
    "        self.rear.next = new_node\n",
    "        self.rear = new_node\n",
    "\n",
    "# Remoção de elementos na fila\n",
    "    def dequeue (self):\n",
    "        if self.front == None:\n",
    "            raise Exception (\"Queue is empty\")\n",
    "        temp = self.front\n",
    "        self.front = self.front.next\n",
    "        if self.front == None:\n",
    "            self.rear = None\n",
    "            return temp.value\n",
    "\n",
    "# Acessa o primeiro elemento da fila\n",
    "    def peek (self):\n",
    "        if self.front == None:\n",
    "            raise Exception (\"Queue is empty\")\n",
    "        return self.front.value\n",
    "\n",
    "# Exibe a fila\n",
    "    def display_queue (self):\n",
    "        current = self.front\n",
    "        while current != None:\n",
    "            print (current.value, end= \" \")\n",
    "            current = current.next\n",
    "\n",
    "#Verifica se a fila está vazia (este teste deve ser feito após os outros testas das filas)\n",
    "    def is_empty (self):\n",
    "      return self.front == None"
   ]
  },
  {
   "cell_type": "markdown",
   "id": "20c75e68",
   "metadata": {},
   "source": [
    "TESTES DE FILA"
   ]
  },
  {
   "cell_type": "markdown",
   "id": "2a905bf1",
   "metadata": {},
   "source": [
    "SEGUNDO TESTE DE FILA"
   ]
  },
  {
   "cell_type": "code",
   "execution_count": 22,
   "id": "bcc1d62b",
   "metadata": {},
   "outputs": [
    {
     "name": "stdout",
     "output_type": "stream",
     "text": [
      "True\n",
      "1\n",
      "2 3 4 5 6 "
     ]
    }
   ],
   "source": [
    "fila = Queue ()\n",
    "\n",
    "print(fila.is_empty ())\n",
    "\n",
    "fila.enqueue (1)\n",
    "print (fila.peek ())\n",
    "\n",
    "fila.dequeue ()\n",
    "fila.enqueue (2)\n",
    "fila.enqueue (3)\n",
    "fila.enqueue (4)\n",
    "fila.enqueue (5)\n",
    "fila.enqueue (6)\n",
    "\n",
    "fila.display_queue ()"
   ]
  }
 ],
 "metadata": {
  "kernelspec": {
   "display_name": "Python 3",
   "language": "python",
   "name": "python3"
  },
  "language_info": {
   "codemirror_mode": {
    "name": "ipython",
    "version": 3
   },
   "file_extension": ".py",
   "mimetype": "text/x-python",
   "name": "python",
   "nbconvert_exporter": "python",
   "pygments_lexer": "ipython3",
   "version": "3.12.9"
  }
 },
 "nbformat": 4,
 "nbformat_minor": 5
}
